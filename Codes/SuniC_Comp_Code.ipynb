{
  "nbformat": 4,
  "nbformat_minor": 0,
  "metadata": {
    "colab": {
      "provenance": []
    },
    "kernelspec": {
      "name": "python3",
      "display_name": "Python 3"
    },
    "language_info": {
      "name": "python"
    }
  },
  "cells": [
    {
      "cell_type": "code",
      "source": [
        "from sklearn.feature_extraction.text import TfidfVectorizer\n",
        "from sklearn.metrics.pairwise import cosine_similarity\n",
        "\n",
        "class EducationUnderstandingBot:\n",
        "    def __init__(self):\n",
        "        self.summary_data = []\n",
        "        self.vectorizer = TfidfVectorizer()\n",
        "        self.tfidf_matrix = None\n",
        "\n",
        "    def add_summary(self, summary):\n",
        "        self.summary_data.append(summary)\n",
        "        self._update_tfidf_matrix()\n",
        "\n",
        "    def _update_tfidf_matrix(self):\n",
        "        self.tfidf_matrix = self.vectorizer.fit_transform(self.summary_data)\n",
        "\n",
        "    def calculate_similarity(self, user_summary):\n",
        "        if not self.summary_data:\n",
        "            return 0.0\n",
        "\n",
        "        if self.tfidf_matrix is None:\n",
        "            self._update_tfidf_matrix()\n",
        "\n",
        "        user_tfidf = self.vectorizer.transform([user_summary])\n",
        "        similarity_scores = cosine_similarity(user_tfidf, self.tfidf_matrix).flatten()\n",
        "\n",
        "        average_similarity = sum(similarity_scores) / len(similarity_scores)\n",
        "        return average_similarity * 100\n",
        "\n",
        "bot = EducationUnderstandingBot()\n",
        "\n",
        "# User interaction\n",
        "print(\"HRD 교육 후 교육 이해도 측정을 시작합니다.\")\n",
        "user_summary = input(\"교육 수강자님, 본인이 이해한 대로 교육 내용을 요약하여 입력해주세요: \")\n",
        "\n",
        "# Save user response to a text file\n",
        "user_response_file_path = \"/content/user.txt\"\n",
        "with open(user_response_file_path, \"w\", encoding=\"utf-8\") as user_file:\n",
        "    user_file.write(user_summary)\n",
        "\n",
        "bot.add_summary(user_summary)\n",
        "\n",
        "# Read content from file and store in chatgpt_summary\n",
        "file_path = \"/content/test.txt\"\n",
        "with open(file_path, \"r\", encoding=\"utf-8\") as file:\n",
        "    chatgpt_summary = file.read()\n",
        "\n",
        "print(f\"\\nChatGPT의 요약본: {chatgpt_summary}\")\n",
        "\n",
        "# Calculate and display education understanding score\n",
        "score = bot.calculate_similarity(chatgpt_summary)\n",
        "print(f\"\\n측정 이해도: {score:.2f}%\")"
      ],
      "metadata": {
        "colab": {
          "base_uri": "https://localhost:8080/"
        },
        "id": "cQ6u6U5qpyaP",
        "outputId": "b0b24a54-81cd-4234-c7e0-b1443f6a48b4"
      },
      "execution_count": 3,
      "outputs": [
        {
          "output_type": "stream",
          "name": "stdout",
          "text": [
            "HRD 교육 후 교육 이해도 측정을 시작합니다.\n",
            "교육 수강자님, 본인이 이해한 대로 교육 내용을 요약하여 입력해주세요: 지구 환경 오염의 심각성을 다시금 깨달을 수 있었던 수업이였다. 나도 앞으로 지구의 환경을 보전하기 위해 노력해야겠다고 생각했다.\n",
            "\n",
            "ChatGPT의 요약본: 현재 지구 온난화는 매우 심각한 문제로 대두되고 있습니다. 이러한 문제를 해결하기 위해서는 모든 사람들의 노력이 필요합니다. 지구 온난화는 환경과 생태계에 막대한 영향을 미치며, 이에 대응하기 위해서는 개인과 국가 차원에서 적극적인 조치가 필요합니다. 환경 보호를 위해 온실 가스 배출량을 줄이는 것부터 시작하여 재생에너지를 활용하고 친환경 기술을 발전시키는 등의 다양한 노력이 필요합니다. 개인의 소비 습관부터 국가의 정책 결정까지, 지속 가능한 미래를 위한 단합된 노력이 필요합니다.\n",
            "\n",
            "측정 이해도: 40.82%\n"
          ]
        }
      ]
    }
  ]
}